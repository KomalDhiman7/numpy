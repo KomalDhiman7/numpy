{
 "cells": [
  {
   "cell_type": "markdown",
   "id": "7c2c7089",
   "metadata": {},
   "source": [
    "## Numpy array and basics\n",
    "learn about numpy with me."
   ]
  },
  {
   "cell_type": "markdown",
   "id": "87592947",
   "metadata": {},
   "source": [
    "### creating array from list"
   ]
  },
  {
   "cell_type": "code",
   "execution_count": 12,
   "id": "12a8366e",
   "metadata": {},
   "outputs": [
    {
     "name": "stdout",
     "output_type": "stream",
     "text": [
      "1D array:  [1 2 3 4 5]\n"
     ]
    },
    {
     "ename": "ValueError",
     "evalue": "setting an array element with a sequence. The requested array has an inhomogeneous shape after 1 dimensions. The detected shape was (2,) + inhomogeneous part.",
     "output_type": "error",
     "traceback": [
      "\u001b[31m---------------------------------------------------------------------------\u001b[39m",
      "\u001b[31mValueError\u001b[39m                                Traceback (most recent call last)",
      "\u001b[36mCell\u001b[39m\u001b[36m \u001b[39m\u001b[32mIn[12]\u001b[39m\u001b[32m, line 4\u001b[39m\n\u001b[32m      2\u001b[39m arr_1D = np.array([\u001b[32m1\u001b[39m,\u001b[32m2\u001b[39m,\u001b[32m3\u001b[39m,\u001b[32m4\u001b[39m,\u001b[32m5\u001b[39m])\n\u001b[32m      3\u001b[39m \u001b[38;5;28mprint\u001b[39m(\u001b[33m\"\u001b[39m\u001b[33m1D array: \u001b[39m\u001b[33m\"\u001b[39m, arr_1D)\n\u001b[32m----> \u001b[39m\u001b[32m4\u001b[39m arr_2D = \u001b[43mnp\u001b[49m\u001b[43m.\u001b[49m\u001b[43marray\u001b[49m\u001b[43m(\u001b[49m\u001b[43m[\u001b[49m\u001b[43m[\u001b[49m\u001b[32;43m1\u001b[39;49m\u001b[43m,\u001b[49m\u001b[32;43m2\u001b[39;49m\u001b[43m,\u001b[49m\u001b[32;43m3\u001b[39;49m\u001b[43m,\u001b[49m\u001b[32;43m4\u001b[39;49m\u001b[43m]\u001b[49m\u001b[43m,\u001b[49m\u001b[43m \u001b[49m\u001b[43m[\u001b[49m\u001b[32;43m5\u001b[39;49m\u001b[43m,\u001b[49m\u001b[32;43m6\u001b[39;49m\u001b[43m]\u001b[49m\u001b[43m]\u001b[49m\u001b[43m)\u001b[49m\n\u001b[32m      5\u001b[39m \u001b[38;5;28mprint\u001b[39m(\u001b[33m\"\u001b[39m\u001b[33m2D array: \u001b[39m\u001b[33m\"\u001b[39m, arr_2D)\n",
      "\u001b[31mValueError\u001b[39m: setting an array element with a sequence. The requested array has an inhomogeneous shape after 1 dimensions. The detected shape was (2,) + inhomogeneous part."
     ]
    }
   ],
   "source": [
    "import numpy as np\n",
    "arr_1D = np.array([1,2,3,4,5])\n",
    "print(\"1D array: \", arr_1D)\n",
    "arr_2D = np.array([[1,2,3,4], [5,6]])\n",
    "print(\"2D array: \", arr_2D)\n"
   ]
  },
  {
   "cell_type": "markdown",
   "id": "938dbe9f",
   "metadata": {
    "vscode": {
     "languageId": "markdown"
    }
   },
   "source": [
    "### List vs numpy array\n"
   ]
  },
  {
   "cell_type": "code",
   "execution_count": 14,
   "id": "676645ed",
   "metadata": {},
   "outputs": [
    {
     "name": "stdout",
     "output_type": "stream",
     "text": [
      "Python list:  [1, 2, 3, 4, 5, 1, 2, 3, 4, 5]\n",
      "Numpy array:  [ 2  4  6  8 10]\n"
     ]
    }
   ],
   "source": [
    "py_list= [1, 2, 3, 4, 5]\n",
    "print(\"Python list: \", py_list*2)\n",
    "\n",
    "np_list = np.array([1,2,3,4,5])   #element wise multiplication\n",
    "print(\"Numpy array: \", np_list*2)  "
   ]
  },
  {
   "cell_type": "code",
   "execution_count": 18,
   "id": "0da56ed8",
   "metadata": {},
   "outputs": [
    {
     "name": "stdout",
     "output_type": "stream",
     "text": [
      "\n",
      " Python list time:  0.07902121543884277\n",
      "Numpy array time:  0.0009236335754394531\n"
     ]
    }
   ],
   "source": [
    "import time\n",
    "start = time.time()\n",
    "py_list = [i*2 for i in range(1000000)]\n",
    "print(\"\\n Python list time: \", time.time() - start)\n",
    "\n",
    "start = time.time()\n",
    "np_list = np.arange(1000000) * 2\n",
    "print(\"Numpy array time: \", time.time() - start)\n"
   ]
  },
  {
   "cell_type": "markdown",
   "id": "408685bf",
   "metadata": {},
   "source": [
    "### creaing array from scratch"
   ]
  },
  {
   "cell_type": "code",
   "execution_count": 25,
   "id": "9bbb4534",
   "metadata": {},
   "outputs": [
    {
     "name": "stdout",
     "output_type": "stream",
     "text": [
      "zeroes array: \n",
      " [[0. 0. 0. 0.]\n",
      " [0. 0. 0. 0.]\n",
      " [0. 0. 0. 0.]]\n",
      "ones array: \n",
      " [[1. 1. 1. 1.]\n",
      " [1. 1. 1. 1.]\n",
      " [1. 1. 1. 1.]]\n",
      "full array: \n",
      " [[5 5 5 5]\n",
      " [5 5 5 5]\n",
      " [5 5 5 5]]\n",
      "random array: \n",
      " [[95.7476458   9.38403263 98.84434243 15.65793317]\n",
      " [71.33347829 42.30779066 78.1694132  73.59519895]\n",
      " [26.15216472 26.04553956 82.67953249 11.87224019]]\n",
      "sequence array:  [ 0  2  4  6  8 10 12 14 16 18]\n"
     ]
    }
   ],
   "source": [
    "zeroes = np.zeros((3, 4))\n",
    "print(\"zeroes array: \\n\", zeroes)\n",
    "\n",
    "ones = np.ones((3, 4))\n",
    "print(\"ones array: \\n\", ones)\n",
    "\n",
    "full = np.full((3, 4), 5)   #create a full array with all elements as 5\n",
    "print(\"full array: \\n\", full)\n",
    "\n",
    "random = np.random.random((3, 4))  #create a random array\n",
    "print(\"random array: \\n\", random*100)\n",
    "\n",
    "sequence = np.arange(0, 20, 2)  #create a sequence array\n",
    "print(\"sequence array: \", sequence)\n",
    "\n"
   ]
  },
  {
   "cell_type": "markdown",
   "id": "a5bd33b5",
   "metadata": {},
   "source": [
    "### Vector, matrix, tensor"
   ]
  },
  {
   "cell_type": "code",
   "execution_count": 29,
   "id": "d00964df",
   "metadata": {},
   "outputs": [
    {
     "name": "stdout",
     "output_type": "stream",
     "text": [
      "Vector:  [1 2 3]\n",
      "Matrix: \n",
      " [[1 2 3]\n",
      " [4 5 6]]\n",
      "Tensor: \n",
      " [[[1 2]\n",
      "  [3 4]]\n",
      "\n",
      " [[5 6]\n",
      "  [7 8]]]\n"
     ]
    }
   ],
   "source": [
    "vector = np.array([1, 2, 3])\n",
    "matrix = np.array([[1, 2, 3], \n",
    "                   [4, 5, 6]])\n",
    "print(\"Vector: \", vector)\n",
    "print(\"Matrix: \\n\", matrix)\n",
    "\n",
    "tensor = np.array([[[1, 2], [3, 4]], \n",
    "                   [[5, 6], [7, 8]]]) \n",
    "print(\"Tensor: \\n\", tensor)"
   ]
  },
  {
   "cell_type": "markdown",
   "id": "cc2cc459",
   "metadata": {},
   "source": [
    "### array properties"
   ]
  },
  {
   "cell_type": "code",
   "execution_count": 34,
   "id": "a1accbcf",
   "metadata": {},
   "outputs": [
    {
     "name": "stdout",
     "output_type": "stream",
     "text": [
      "shape of arr:  (2, 5)\n",
      "size of arr:  10\n",
      "dtype of arr:  int64\n",
      "dimensions of arr:  2\n"
     ]
    }
   ],
   "source": [
    "arr = np.array([[1, 2, 3, 4, 5],\n",
    "                [1, 2, 3, 4, 5]])\n",
    "\n",
    "print(\"shape of arr: \", arr.shape)\n",
    "print(\"size of arr: \", arr.size)\n",
    "print(\"dtype of arr: \", arr.dtype)\n",
    "print(\"dimensions of arr: \", arr.ndim)"
   ]
  },
  {
   "cell_type": "markdown",
   "id": "1d976d4e",
   "metadata": {},
   "source": [
    "### array reshaping"
   ]
  },
  {
   "cell_type": "code",
   "execution_count": null,
   "id": "2730eede",
   "metadata": {},
   "outputs": [
    {
     "name": "stdout",
     "output_type": "stream",
     "text": [
      "Array with step of 2:  [ 1  3  5  7  9 11 13 15 17]\n",
      "Reshaped array: \n",
      " [[ 1  3  5]\n",
      " [ 7  9 11]\n",
      " [13 15 17]]\n"
     ]
    }
   ],
   "source": [
    "arr= np.arange(1, 19, 2)  #create an array with a step of 2\n",
    "print(\"Array with step of 2: \", arr)\n",
    "\n",
    "reshaped_arr = arr.reshape((3,3)) #reshape the array to 3x3\n",
    "print(\"Reshaped array: \\n\", reshaped_arr)\n",
    "\n",
    "\n",
    "\n"
   ]
  }
 ],
 "metadata": {
  "kernelspec": {
   "display_name": "Python 3",
   "language": "python",
   "name": "python3"
  },
  "language_info": {
   "codemirror_mode": {
    "name": "ipython",
    "version": 3
   },
   "file_extension": ".py",
   "mimetype": "text/x-python",
   "name": "python",
   "nbconvert_exporter": "python",
   "pygments_lexer": "ipython3",
   "version": "3.12.1"
  }
 },
 "nbformat": 4,
 "nbformat_minor": 5
}
