{
 "cells": [
  {
   "cell_type": "markdown",
   "id": "7c2c7089",
   "metadata": {},
   "source": [
    "## Numpy array and basics\n",
    "learn about numpy with me."
   ]
  },
  {
   "cell_type": "markdown",
   "id": "79049bc6",
   "metadata": {},
   "source": [
    "import numpy as np\n",
    "\n"
   ]
  },
  {
   "cell_type": "markdown",
   "id": "87592947",
   "metadata": {},
   "source": [
    "### creating array from list"
   ]
  },
  {
   "cell_type": "markdown",
   "id": "3d8236e8",
   "metadata": {},
   "source": []
  }
 ],
 "metadata": {
  "language_info": {
   "name": "python"
  }
 },
 "nbformat": 4,
 "nbformat_minor": 5
}
