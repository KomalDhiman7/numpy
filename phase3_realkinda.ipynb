{
 "cells": [
  {
   "cell_type": "code",
   "execution_count": 2,
   "id": "4a782bfd",
   "metadata": {},
   "outputs": [],
   "source": [
    "import numpy as np\n",
    "import matplotlib.pyplot as plt"
   ]
  },
  {
   "cell_type": "markdown",
   "id": "ddba634e",
   "metadata": {},
   "source": [
    "### Advanced Operation with business operations"
   ]
  },
  {
   "cell_type": "code",
   "execution_count": 4,
   "id": "d6f1adb6",
   "metadata": {},
   "outputs": [
    {
     "name": "stdout",
     "output_type": "stream",
     "text": [
      "=== Zomato Restaurant Revenue Data ===\n",
      "\n",
      " Sales Data shape: (5, 5)\n",
      "\n",
      " sample data for 1st 3 restaurants:\n",
      " [[  1 100 150 200 250]\n",
      " [  2 200 250 300 350]\n",
      " [  3 300 350 400 450]]\n"
     ]
    }
   ],
   "source": [
    "# Data Stru= [Restaurant_id, 2021, 2022, 2023, 2024]\n",
    "data = np.array([\n",
    "    [1, 100, 150, 200, 250],\n",
    "    [2, 200, 250, 300, 350],            \n",
    "    [3, 300, 350, 400, 450],\n",
    "    [4, 400, 450, 500, 550],\n",
    "    [5, 500, 550, 600, 650]\n",
    "])\n",
    "\n",
    "print(\"=== Zomato Restaurant Revenue Data ===\")\n",
    "print(\"\\n Sales Data shape:\", data.shape)\n",
    "print(\"\\n sample data for 1st 3 restaurants:\\n\", data[:3])"
   ]
  }
 ],
 "metadata": {
  "kernelspec": {
   "display_name": "Python 3",
   "language": "python",
   "name": "python3"
  },
  "language_info": {
   "codemirror_mode": {
    "name": "ipython",
    "version": 3
   },
   "file_extension": ".py",
   "mimetype": "text/x-python",
   "name": "python",
   "nbconvert_exporter": "python",
   "pygments_lexer": "ipython3",
   "version": "3.12.1"
  }
 },
 "nbformat": 4,
 "nbformat_minor": 5
}
