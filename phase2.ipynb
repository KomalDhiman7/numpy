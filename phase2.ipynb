{
 "cells": [
  {
   "cell_type": "markdown",
   "id": "6260926a",
   "metadata": {},
   "source": [
    "### Numpy Array Operations\n"
   ]
  },
  {
   "cell_type": "code",
   "execution_count": 4,
   "id": "2d1620e7",
   "metadata": {},
   "outputs": [],
   "source": [
    "import numpy as np"
   ]
  },
  {
   "cell_type": "code",
   "execution_count": 8,
   "id": "51531130",
   "metadata": {},
   "outputs": [
    {
     "name": "stdout",
     "output_type": "stream",
     "text": [
      "Original array: [3 4 5 6 7]\n",
      "Sliced array: [3 5 7]\n",
      "NEGATIVE SLICING 9\n",
      "NEGATIVE SLICING [ 9 10]\n"
     ]
    }
   ],
   "source": [
    "arr = np.array([1,2,3,4,5,6,7,8,9,10])\n",
    "print(\"Original array:\", arr[2:7]) #slicing from index 2 to 6\n",
    "print(\"Sliced array:\", arr[2:7:2]) #step of 2\n",
    "print(\"NEGATIVE SLICING\", arr[-2]) #negative indexing to get the second last element\n",
    "print(\"NEGATIVE SLICING\", arr[-2:]) #slicing from the second"
   ]
  },
  {
   "cell_type": "code",
   "execution_count": 11,
   "id": "8bd2b193",
   "metadata": {},
   "outputs": [
    {
     "name": "stdout",
     "output_type": "stream",
     "text": [
      "2D Array Slicing: 6\n",
      "2D Array Slicing: [2 5 8]\n"
     ]
    }
   ],
   "source": [
    "arr_2d = np.array([[1,2,3],\n",
    "                   [4,5,6],\n",
    "                   [7,8,9]])\n",
    "\n",
    "print(\"2D Array Slicing:\", arr_2d[1,2])\n",
    "print(\"2D Array Slicing:\", arr_2d[: ,1])"
   ]
  },
  {
   "cell_type": "markdown",
   "id": "15a15938",
   "metadata": {},
   "source": [
    "### sorting"
   ]
  },
  {
   "cell_type": "code",
   "execution_count": 23,
   "id": "fcc11591",
   "metadata": {},
   "outputs": [
    {
     "name": "stdout",
     "output_type": "stream",
     "text": [
      "sorted Array: [1 3 5 7 8]\n",
      "2D Array sorted: [[3 1 2]\n",
      " [6 4 7]\n",
      " [8 5 9]]\n"
     ]
    }
   ],
   "source": [
    "unsorted = np.array([3,1,7,8,5])\n",
    "print(\"sorted Array:\", np.sort(unsorted)) #sorts the array in ascending order\n",
    "\n",
    "arr_2d_unsorted = np.array([[3,1,7],\n",
    "                            [8,5,2],\n",
    "                            [6,4,9]])\n",
    "\n",
    "print(\"2D Array sorted:\", np.sort(arr_2d_unsorted, axis=0)) #sorts each column in ascending order"
   ]
  },
  {
   "cell_type": "markdown",
   "id": "e8dadbd0",
   "metadata": {},
   "source": [
    "### filering"
   ]
  },
  {
   "cell_type": "code",
   "execution_count": 24,
   "id": "521a54bb",
   "metadata": {},
   "outputs": [
    {
     "name": "stdout",
     "output_type": "stream",
     "text": [
      "Even numbers: [ 2  4  6  8 10]\n"
     ]
    }
   ],
   "source": [
    "numbers = np.array([1,2,3,4,5,6,7,8,9,10])\n",
    "even_no = numbers[numbers % 2 == 0] #boolean indexing to get even numbers\n",
    "print(\"Even numbers:\", even_no)"
   ]
  },
  {
   "cell_type": "markdown",
   "id": "cef6396c",
   "metadata": {},
   "source": [
    "### Filter with mask"
   ]
  },
  {
   "cell_type": "code",
   "execution_count": 26,
   "id": "5eeaf8a8",
   "metadata": {},
   "outputs": [
    {
     "name": "stdout",
     "output_type": "stream",
     "text": [
      "Numbers greater than 5: [ 6  7  8  9 10]\n"
     ]
    }
   ],
   "source": [
    "mask = numbers > 5 #boolean mask for numbers greater than 5\n",
    "print(\"Numbers greater than 5:\", numbers[mask]) #apply mask to get numbers greaterz"
   ]
  },
  {
   "cell_type": "markdown",
   "id": "b06ae703",
   "metadata": {},
   "source": [
    "#### FANCY INDEXING VS NP.WHERE()"
   ]
  },
  {
   "cell_type": "code",
   "execution_count": 31,
   "metadata": {},
   "outputs": [
    {
     "name": "stdout",
     "output_type": "stream",
     "text": [
      "[1 3 5]\n",
      "NP where:  [ 6  7  8  9 10]\n"
     ]
    }
   ],
   "source": [
    "indices = [0,2,4]\n",
    "print(numbers[indices]) #indexing to get specific elements at indices 0, 2, and 4\n",
    "\n",
    "where_indices = np.where(numbers > 5) #get indices of numbers greater than 5\n",
    "print(\"NP where: \", numbers[where_indices])"
   ]
  },
  {
   "cell_type": "code",
   "execution_count": 34,
   "id": "3c98e079",
   "metadata": {},
   "outputs": [
    {
     "name": "stdout",
     "output_type": "stream",
     "text": [
      "Conditional Array: ['False' 'False' 'False' 'False' 'False' 'True' 'True' 'True' 'True'\n",
      " 'True']\n"
     ]
    }
   ],
   "source": [
    "conitional_arr= np.where(numbers > 5,\"True\", \"False\") #conditional array where numbers > 5 are kept, others replaced with -1\n",
    "print(\"Conditional Array:\", conitional_arr)"
   ]
  },
  {
   "cell_type": "markdown",
   "id": "f3e0adc9",
   "metadata": {},
   "source": [
    "### adding or removing data"
   ]
  },
  {
   "cell_type": "code",
   "execution_count": 44,
   "id": "a485f82e",
   "metadata": {},
   "outputs": [
    {
     "name": "stdout",
     "output_type": "stream",
     "text": [
      "[5 7 9]\n",
      "Concatenated Array: [1 2 3 4 5 6]\n",
      "Array after deletion: [1 2 4 5]\n"
     ]
    }
   ],
   "source": [
    "arr1 = np.array([1, 2, 3])\n",
    "arr2 = np.array([4, 5, 6])\n",
    "print( arr1+ arr2) #add two arrays element-wise\n",
    "print(\"Concatenated Array:\", np.concatenate((arr1, arr2))) #concatenate two arrays\n",
    "\n",
    "# Removing arrays\n",
    "\n",
    "arr= np.array([1, 2, 3, 4, 5])\n",
    "arr = np.delete(arr, 2) #remove element at index 2\n",
    "print(\"Array after deletion:\", arr)"
   ]
  },
  {
   "cell_type": "markdown",
   "id": "de6243e7",
   "metadata": {},
   "source": [
    "### array compatibilty"
   ]
  },
  {
   "cell_type": "code",
   "execution_count": 39,
   "id": "4c361888",
   "metadata": {},
   "outputs": [
    {
     "name": "stdout",
     "output_type": "stream",
     "text": [
      "Compatiblty shapes:  False\n"
     ]
    }
   ],
   "source": [
    "a = np.array([1, 2, 3, 4, 5])\n",
    "b= np.array([2, 3])\n",
    "print(\"Compatiblty shapes: \" , a.shape==b.shape) #check if shapes are compatible for broadcasting"
   ]
  },
  {
   "cell_type": "code",
   "execution_count": 43,
   "id": "65f518d2",
   "metadata": {},
   "outputs": [
    {
     "name": "stdout",
     "output_type": "stream",
     "text": [
      "[[ 1  2  3]\n",
      " [ 4  5  6]\n",
      " [ 6  7  8]\n",
      " [ 9 10 11]]\n"
     ]
    }
   ],
   "source": [
    "org= np.array([[1, 2, 3], [4, 5,6 ]])\n",
    "new = np.array([[6, 7, 8], [9, 10,11]])\n",
    "new= np.vstack((org, new)) #vertically stack two arrays\n",
    "print(new)"
   ]
  },
  {
   "cell_type": "code",
   "execution_count": null,
   "id": "79d4b443",
   "metadata": {},
   "outputs": [],
   "source": []
  }
 ],
 "metadata": {
  "kernelspec": {
   "display_name": "Python 3",
   "language": "python",
   "name": "python3"
  },
  "language_info": {
   "codemirror_mode": {
    "name": "ipython",
    "version": 3
   },
   "file_extension": ".py",
   "mimetype": "text/x-python",
   "name": "python",
   "nbconvert_exporter": "python",
   "pygments_lexer": "ipython3",
   "version": "3.12.1"
  }
 },
 "nbformat": 4,
 "nbformat_minor": 5
}
